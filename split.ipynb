{
 "cells": [
  {
   "cell_type": "markdown",
   "id": "fc17ec91",
   "metadata": {},
   "source": [
    "#### Convert excel files in a folder to html\n",
    "##### Joaquim Ignatious Monteiro\n",
    "#### March 30, 2022"
   ]
  },
  {
   "cell_type": "code",
   "execution_count": 1,
   "id": "3d784f3e",
   "metadata": {},
   "outputs": [],
   "source": [
    "!pip install xlsx2html"
   ]
  },
  {
   "cell_type": "code",
   "execution_count": 37,
   "id": "bff8ba53",
   "metadata": {},
   "outputs": [],
   "source": [
    "import os\n",
    "import glob\n",
    "from xlsx2html import xlsx2html"
   ]
  },
  {
   "cell_type": "code",
   "execution_count": 41,
   "id": "93ab3554",
   "metadata": {
    "scrolled": false
   },
   "outputs": [],
   "source": [
    "path = os.getcwd() #Either run this notebook in the folder containing excel file or\n",
    "# or manually add the path of the folder containing excel files\n",
    "#path = ''\n",
    "excel_files = glob.glob(os.path.join(path, \"*.xlsx\"))\n",
    "\n",
    "abs_path = os.path.abspath(path)\n",
    "folder = os.path.join(abs_path,'html')\n",
    "os.mkdir(folder)\n",
    "for item in excel_files:\n",
    "    file_name = os.path.basename(item)\n",
    "    file_name=file_name.split(\".\")\n",
    "    file_name = f'{file_name[0]}.html'\n",
    "    file_loc = os.path.join(folder,file_name)\n",
    "    xlsx2html(item,file_loc)"
   ]
  },
  {
   "cell_type": "markdown",
   "id": "357e8888",
   "metadata": {},
   "source": [
    "### To convert the sheets in an excel workbook to multiple excel files please use the api provided by this website\n",
    "https://products.aspose.app/pdf/split-excel"
   ]
  },
  {
   "cell_type": "code",
   "execution_count": null,
   "id": "f2b31c78",
   "metadata": {},
   "outputs": [],
   "source": []
  }
 ],
 "metadata": {
  "kernelspec": {
   "display_name": "Python 3 (ipykernel)",
   "language": "python",
   "name": "python3"
  },
  "language_info": {
   "codemirror_mode": {
    "name": "ipython",
    "version": 3
   },
   "file_extension": ".py",
   "mimetype": "text/x-python",
   "name": "python",
   "nbconvert_exporter": "python",
   "pygments_lexer": "ipython3",
   "version": "3.9.7"
  }
 },
 "nbformat": 4,
 "nbformat_minor": 5
}
